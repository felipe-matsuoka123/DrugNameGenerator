{
 "cells": [
  {
   "cell_type": "code",
   "execution_count": 134,
   "metadata": {},
   "outputs": [],
   "source": [
    "import torch\n",
    "import re\n",
    "import matplotlib.pyplot as plt\n",
    "\n",
    "names = open('/Users/felipeakiomatsuoka/Desktop/NLP/DrugNames.txt', 'r').read().splitlines()"
   ]
  },
  {
   "cell_type": "code",
   "execution_count": 135,
   "metadata": {},
   "outputs": [],
   "source": [
    "names = [re.sub(r'[^a-zA-Z0-9 ]', '', name) for name in names]  # remove special characters\n",
    "names = [name.lower() for name in names]  # lower case"
   ]
  },
  {
   "cell_type": "code",
   "execution_count": 100,
   "metadata": {},
   "outputs": [
    {
     "data": {
      "text/plain": [
       "['SULFAPYRIDINE', 'LIQUAEMIN SODIUM', 'LIQUAEMIN SODIUM']"
      ]
     },
     "execution_count": 100,
     "metadata": {},
     "output_type": "execute_result"
    }
   ],
   "source": [
    "names[1:4]\n"
   ]
  },
  {
   "cell_type": "code",
   "execution_count": 136,
   "metadata": {},
   "outputs": [],
   "source": [
    "b = {}\n",
    "for n in names:\n",
    "    chs = n + '.'\n",
    "    for ch1, ch2 in zip(chs, chs[1:]):\n",
    "        bigram = (ch1, ch2)\n",
    "        b[bigram] = b.get(bigram, 0) + 1"
   ]
  },
  {
   "cell_type": "code",
   "execution_count": 111,
   "metadata": {},
   "outputs": [],
   "source": [
    "chars = sorted(set(''.join(names)))\n",
    "stoi = {s:i+1 for i, s in enumerate(chars)}\n",
    "stoi['<E>'] = 0\n",
    "itos = {i:s for s, i in stoi.items()}"
   ]
  },
  {
   "cell_type": "code",
   "execution_count": 112,
   "metadata": {},
   "outputs": [],
   "source": [
    "N = torch.zeros((len(chars) + 1, len(chars) + 1), dtype=torch.int32)\n",
    "for n in names:\n",
    "    chs = ['<E>'] + list(n) + ['<E>']\n",
    "    for ch1, ch2 in zip(chs, chs[1:]):\n",
    "        idx1 = stoi[ch1]\n",
    "        idx2 = stoi[ch2]\n",
    "        N[idx1, idx2] += 1"
   ]
  },
  {
   "cell_type": "code",
   "execution_count": 143,
   "metadata": {},
   "outputs": [],
   "source": [
    "g = torch.Generator().manual_seed(42)\n",
    "P = (N+1).float()\n",
    "P /= P.sum(dim=1, keepdim=True)"
   ]
  },
  {
   "cell_type": "code",
   "execution_count": 148,
   "metadata": {},
   "outputs": [
    {
     "name": "stdout",
     "output_type": "stream",
     "text": [
      "pr\n",
      "ororinexloridee\n",
      "roximpr\n",
      "syde\n",
      "hloride\n",
      "drochydide pochlchydecumeroc samorosyciarinocipitisolochydatferolalobinacolocte\n",
      "rospid depicarotasiume\n",
      "zam hidete\n",
      "oxenentibuon\n",
      "tum amathipliuazone hlore\n"
     ]
    }
   ],
   "source": [
    "for i in range(10):\n",
    "    out = []\n",
    "    #ix = torch.randint(0, len(chars), (1,)).item()\n",
    "    ix = 0   \n",
    "    while True:\n",
    "        p = P[ix]\n",
    "\n",
    "        #p = torch.ones(len(chars) + 1) / len(chars) + 1\n",
    "\n",
    "        ix = torch.multinomial(p, num_samples=1, replacement=True, generator=g).item()\n",
    "        if ix == 0:\n",
    "            break\n",
    "        out.append(itos[ix])\n",
    "\n",
    "    print(''.join(out))"
   ]
  },
  {
   "cell_type": "code",
   "execution_count": 147,
   "metadata": {},
   "outputs": [
    {
     "name": "stdout",
     "output_type": "stream",
     "text": [
      "Log likelihood: -1715782.75\n",
      "Negative and normalized log likelihood: 2.17\n"
     ]
    }
   ],
   "source": [
    "log_likelihood = 0\n",
    "num = 0\n",
    "for n in names:\n",
    "    chs = ['<E>'] + list(n) + ['<E>']\n",
    "    for ch1, ch2 in zip(n, n[1:]):\n",
    "        idx1 = stoi[ch1]\n",
    "        idx2 = stoi[ch2]\n",
    "        prob = P[idx1, idx2]\n",
    "        logprob = torch.log(prob)\n",
    "        log_likelihood += logprob\n",
    "        num += 1\n",
    "\n",
    "print(f\"Log likelihood: {log_likelihood:.2f}\")\n",
    "print(f\"Negative and normalized log likelihood: {-log_likelihood / num:.2f}\")"
   ]
  },
  {
   "cell_type": "code",
   "execution_count": null,
   "metadata": {},
   "outputs": [],
   "source": []
  },
  {
   "cell_type": "code",
   "execution_count": null,
   "metadata": {},
   "outputs": [],
   "source": []
  }
 ],
 "metadata": {
  "kernelspec": {
   "display_name": "Python 3",
   "language": "python",
   "name": "python3"
  },
  "language_info": {
   "codemirror_mode": {
    "name": "ipython",
    "version": 3
   },
   "file_extension": ".py",
   "mimetype": "text/x-python",
   "name": "python",
   "nbconvert_exporter": "python",
   "pygments_lexer": "ipython3",
   "version": "3.9.6"
  },
  "orig_nbformat": 4
 },
 "nbformat": 4,
 "nbformat_minor": 2
}
